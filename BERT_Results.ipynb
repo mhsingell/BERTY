{
 "cells": [
  {
   "cell_type": "markdown",
   "id": "75e0ed10",
   "metadata": {},
   "source": [
    "### Results of BERT Models\n",
    "\n",
    "Accuracy, Frequency-Weighted Accuracy and Frequency Factor for 3 Models"
   ]
  },
  {
   "cell_type": "code",
   "execution_count": 2,
   "id": "9b5a7866",
   "metadata": {},
   "outputs": [],
   "source": [
    "#My Package\n",
    "import BERT_Project_Package as bpp\n",
    "\n",
    "#General\n",
    "import numpy as np\n",
    "import pandas as pd\n",
    "\n",
    "#For all your pickle needs\n",
    "import pickle\n",
    "\n",
    "#For Train and Test Split\n",
    "import random\n",
    "\n",
    "#For Running BERT\n",
    "from transformers import BertTokenizer, BertForPreTraining, BertModel, TFBertForMaskedLM, BertConfig, BertForMaskedLM\n",
    "from transformers import BertTokenizer, LineByLineTextDataset, BertModel, BertConfig, BertForMaskedLM, DataCollatorForLanguageModeling\n",
    "import torch\n",
    "\n",
    "#For metrics\n",
    "from datasets import load_metric\n",
    "\n",
    "#for graphing\n",
    "import seaborn as sns"
   ]
  },
  {
   "cell_type": "code",
   "execution_count": 3,
   "id": "7ffccbb3",
   "metadata": {},
   "outputs": [
    {
     "name": "stderr",
     "output_type": "stream",
     "text": [
      "Some weights of the model checkpoint at bert-base-cased were not used when initializing BertForMaskedLM: ['cls.seq_relationship.weight', 'cls.seq_relationship.bias']\n",
      "- This IS expected if you are initializing BertForMaskedLM from the checkpoint of a model trained on another task or with another architecture (e.g. initializing a BertForSequenceClassification model from a BertForPreTraining model).\n",
      "- This IS NOT expected if you are initializing BertForMaskedLM from the checkpoint of a model that you expect to be exactly identical (initializing a BertForSequenceClassification model from a BertForSequenceClassification model).\n"
     ]
    }
   ],
   "source": [
    "#Load models\n",
    "model_pt = torch.load('model_pt11.pth', map_location=torch.device('cpu'))\n",
    "model_ft = torch.load('model_ft6.pth', map_location=torch.device('cpu'))\n",
    "tokenizer = BertTokenizer.from_pretrained('bert-base-cased')\n",
    "model = BertForMaskedLM.from_pretrained('bert-base-cased')"
   ]
  },
  {
   "cell_type": "code",
   "execution_count": 4,
   "id": "02419d05",
   "metadata": {},
   "outputs": [],
   "source": [
    "import json\n",
    "with open('easier.json') as d:\n",
    "    x_dict = json.load(d)"
   ]
  },
  {
   "cell_type": "code",
   "execution_count": 5,
   "id": "6b691131",
   "metadata": {},
   "outputs": [],
   "source": [
    "#Load Pageview Data\n",
    "with open('wiki_small.txt') as f:\n",
    "    lines = f.readlines()"
   ]
  },
  {
   "cell_type": "code",
   "execution_count": 6,
   "id": "61505078",
   "metadata": {},
   "outputs": [],
   "source": [
    "#Attach pageviews to data dictionary\n",
    "x_dict_pvs = bpp.attach_pvs(lines, x_dict)"
   ]
  },
  {
   "cell_type": "code",
   "execution_count": 7,
   "id": "4a7f5920",
   "metadata": {},
   "outputs": [],
   "source": [
    "train, validate, test = bpp.trainvaltest(x_dict_pvs)"
   ]
  },
  {
   "cell_type": "code",
   "execution_count": 27,
   "id": "a50edcc3",
   "metadata": {},
   "outputs": [],
   "source": [
    "acc_vb, pred_vb, df_vb = bpp.find_accuracy(validate, model)"
   ]
  },
  {
   "cell_type": "code",
   "execution_count": 28,
   "id": "361ee83f",
   "metadata": {},
   "outputs": [],
   "source": [
    "acc_ptb, pred_ptb, df_ptb = bpp.find_accuracy(validate, model_pt)"
   ]
  },
  {
   "cell_type": "code",
   "execution_count": 29,
   "id": "0fea89f0",
   "metadata": {},
   "outputs": [],
   "source": [
    "acc_ftb, pred_ftb, df_ftb = bpp.find_accuracy(validate, model_ft)"
   ]
  }
 ],
 "metadata": {
  "kernelspec": {
   "display_name": "Python 3 (ipykernel)",
   "language": "python",
   "name": "python3"
  },
  "language_info": {
   "codemirror_mode": {
    "name": "ipython",
    "version": 3
   },
   "file_extension": ".py",
   "mimetype": "text/x-python",
   "name": "python",
   "nbconvert_exporter": "python",
   "pygments_lexer": "ipython3",
   "version": "3.9.7"
  }
 },
 "nbformat": 4,
 "nbformat_minor": 5
}
