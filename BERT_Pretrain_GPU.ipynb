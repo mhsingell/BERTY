{
 "cells": [
  {
   "cell_type": "markdown",
   "id": "02953655",
   "metadata": {},
   "source": [
    "### BERT Pre-train on GPU\n",
    "\n",
    "Succesfully run on Google Colab GPU as of 6/5/2020 at 1:30pm    \\\n",
    "Saved as model_pt11.pth      \\\n",
    "7 Epochs, Batch Size 32       \n"
   ]
  },
  {
   "cell_type": "code",
   "execution_count": null,
   "id": "55493d19",
   "metadata": {},
   "outputs": [],
   "source": [
    "import BERT_Project_Package as bpp\n",
    "\n",
    "#For all your pickle needs\n",
    "import pickle\n",
    "\n",
    "#General stuff\n",
    "import pandas as pd\n",
    "import numpy as np\n",
    "\n",
    "#For Train and Test Split\n",
    "import random\n",
    "\n",
    "#For Running BERT\n",
    "from transformers import BertTokenizer, BertForPreTraining, BertModel, TFBertForMaskedLM, BertConfig, BertForMaskedLM\n",
    "import torch\n",
    "\n",
    "#Try 2 pre-training\n",
    "import tokenizers\n",
    "from transformers import Trainer, TrainingArguments\n",
    "from transformers import BertTokenizer, LineByLineTextDataset, BertModel, BertConfig, BertForMaskedLM, DataCollatorForLanguageModeling\n",
    "\n",
    "#For pre-training not by hand for BERT\n",
    "from transformers import TrainingArguments\n",
    "from transformers import Trainer\n",
    "\n",
    "#Initialize optimizer for pre-training\n",
    "from transformers import AdamW\n",
    "\n",
    "#datasets\n",
    "import datasets\n",
    "from datasets import load_metric"
   ]
  },
  {
   "cell_type": "code",
   "execution_count": null,
   "id": "3b8d8d27",
   "metadata": {},
   "outputs": [],
   "source": [
    "import json\n",
    "with open('easier.json') as d:\n",
    "    x_dict = json.load(d)"
   ]
  },
  {
   "cell_type": "code",
   "execution_count": null,
   "id": "46bee14c",
   "metadata": {},
   "outputs": [],
   "source": [
    "train, validate, test = bpp.trainvaltest(x_dict)"
   ]
  },
  {
   "cell_type": "code",
   "execution_count": null,
   "id": "62f35adc",
   "metadata": {},
   "outputs": [],
   "source": [
    "lines = train[\"text\"]\n",
    "with open('my_dat.txt', 'w') as f:\n",
    "    for line in lines:\n",
    "        f.write(line)\n",
    "        f.write('\\n')"
   ]
  },
  {
   "cell_type": "code",
   "execution_count": null,
   "id": "9ee7bdf0",
   "metadata": {},
   "outputs": [],
   "source": [
    "tokenizer = BertTokenizer.from_pretrained('bert-base-cased')"
   ]
  },
  {
   "cell_type": "code",
   "execution_count": null,
   "id": "cad8591d",
   "metadata": {},
   "outputs": [],
   "source": [
    "dataset= LineByLineTextDataset(\n",
    "    tokenizer = tokenizer,\n",
    "    file_path = './my_dat.txt',\n",
    "    block_size = 128\n",
    ")"
   ]
  },
  {
   "cell_type": "code",
   "execution_count": null,
   "id": "11d0c450",
   "metadata": {},
   "outputs": [],
   "source": [
    "torch.cuda.empty_cache()"
   ]
  },
  {
   "cell_type": "code",
   "execution_count": null,
   "id": "88ee164f",
   "metadata": {},
   "outputs": [],
   "source": [
    "# Defining configuration of BERT for pretraining\n",
    "config = BertConfig(\n",
    "    vocab_size=50000,\n",
    "    hidden_size=768, \n",
    "    num_hidden_layers=6, \n",
    "    num_attention_heads=12,\n",
    "    max_position_embeddings=512\n",
    ")\n",
    " \n",
    "model = BertForMaskedLM(config)\n",
    "print('No of parameters: ', model.num_parameters())\n",
    "\n",
    "\n",
    "data_collator = DataCollatorForLanguageModeling(\n",
    "    tokenizer=tokenizer, mlm=True, mlm_probability=0.15\n",
    ")\n",
    "\n",
    "# Defining training configuration\\\n",
    "training_args = TrainingArguments(\n",
    "    output_dir='./Project',\n",
    "    overwrite_output_dir=True,\n",
    "    num_train_epochs=7,\n",
    "    per_device_train_batch_size=32,\n",
    "    save_steps=10_000,\n",
    "    save_total_limit=2,\n",
    ")\n",
    "\n",
    "trainer = Trainer(\n",
    "    model=model,\n",
    "    args=training_args,\n",
    "    data_collator=data_collator,\n",
    "    train_dataset=dataset,\n",
    ")\n",
    "\n",
    "# Perfrom pre-training and save the model\n",
    "trainer.train()\n",
    "trainer.save_model('./Project')"
   ]
  },
  {
   "cell_type": "code",
   "execution_count": null,
   "id": "f1adf286",
   "metadata": {},
   "outputs": [],
   "source": [
    "torch.save(model, 'model_pt11.pth')"
   ]
  }
 ],
 "metadata": {
  "kernelspec": {
   "display_name": "Python 3 (ipykernel)",
   "language": "python",
   "name": "python3"
  },
  "language_info": {
   "codemirror_mode": {
    "name": "ipython",
    "version": 3
   },
   "file_extension": ".py",
   "mimetype": "text/x-python",
   "name": "python",
   "nbconvert_exporter": "python",
   "pygments_lexer": "ipython3",
   "version": "3.9.7"
  }
 },
 "nbformat": 4,
 "nbformat_minor": 5
}
