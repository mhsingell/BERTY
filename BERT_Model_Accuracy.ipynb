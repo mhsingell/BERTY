{
  "cells": [
    {
      "cell_type": "markdown",
      "metadata": {
        "id": "view-in-github",
        "colab_type": "text"
      },
      "source": [
        "<a href=\"https://colab.research.google.com/github/mhsingell/BERTY/blob/main/BERT_Model_Accuracy.ipynb\" target=\"_parent\"><img src=\"https://colab.research.google.com/assets/colab-badge.svg\" alt=\"Open In Colab\"/></a>"
      ]
    },
    {
      "cell_type": "code",
      "execution_count": 1,
      "id": "c3e9b855",
      "metadata": {
        "id": "c3e9b855",
        "colab": {
          "base_uri": "https://localhost:8080/",
          "height": 374
        },
        "outputId": "8dbc54c5-5291-4750-c647-335b5999be25"
      },
      "outputs": [
        {
          "output_type": "error",
          "ename": "ModuleNotFoundError",
          "evalue": "ignored",
          "traceback": [
            "\u001b[0;31m---------------------------------------------------------------------------\u001b[0m",
            "\u001b[0;31mModuleNotFoundError\u001b[0m                       Traceback (most recent call last)",
            "\u001b[0;32m<ipython-input-1-f27f8b7f3158>\u001b[0m in \u001b[0;36m<module>\u001b[0;34m\u001b[0m\n\u001b[1;32m      1\u001b[0m \u001b[0;31m#My Package\u001b[0m\u001b[0;34m\u001b[0m\u001b[0;34m\u001b[0m\u001b[0;34m\u001b[0m\u001b[0m\n\u001b[0;32m----> 2\u001b[0;31m \u001b[0;32mimport\u001b[0m \u001b[0mBERT_Project_Package\u001b[0m \u001b[0;32mas\u001b[0m \u001b[0mbpp\u001b[0m\u001b[0;34m\u001b[0m\u001b[0;34m\u001b[0m\u001b[0m\n\u001b[0m\u001b[1;32m      3\u001b[0m \u001b[0;34m\u001b[0m\u001b[0m\n\u001b[1;32m      4\u001b[0m \u001b[0;31m#General\u001b[0m\u001b[0;34m\u001b[0m\u001b[0;34m\u001b[0m\u001b[0;34m\u001b[0m\u001b[0m\n\u001b[1;32m      5\u001b[0m \u001b[0;32mimport\u001b[0m \u001b[0mnumpy\u001b[0m \u001b[0;32mas\u001b[0m \u001b[0mnp\u001b[0m\u001b[0;34m\u001b[0m\u001b[0;34m\u001b[0m\u001b[0m\n",
            "\u001b[0;31mModuleNotFoundError\u001b[0m: No module named 'BERT_Project_Package'",
            "",
            "\u001b[0;31m---------------------------------------------------------------------------\u001b[0;32m\nNOTE: If your import is failing due to a missing package, you can\nmanually install dependencies using either !pip or !apt.\n\nTo view examples of installing some common dependencies, click the\n\"Open Examples\" button below.\n\u001b[0;31m---------------------------------------------------------------------------\u001b[0m\n"
          ],
          "errorDetails": {
            "actions": [
              {
                "action": "open_url",
                "actionText": "Open Examples",
                "url": "/notebooks/snippets/importing_libraries.ipynb"
              }
            ]
          }
        }
      ],
      "source": [
        "#My Package\n",
        "import BERT_Project_Package as bpp\n",
        "\n",
        "#General\n",
        "import numpy as np\n",
        "import pandas as pd\n",
        "\n",
        "#For all your pickle needs\n",
        "import pickle\n",
        "\n",
        "#For Train and Test Split\n",
        "import random\n",
        "\n",
        "#For Running BERT\n",
        "from transformers import BertTokenizer, BertForPreTraining, BertModel, TFBertForMaskedLM, BertConfig, BertForMaskedLM\n",
        "from transformers import BertTokenizer, LineByLineTextDataset, BertModel, BertConfig, BertForMaskedLM, DataCollatorForLanguageModeling\n",
        "import torch\n",
        "\n",
        "#For metrics\n",
        "from datasets import load_metric\n",
        "\n",
        "#for graphing\n",
        "import seaborn as sns"
      ]
    },
    {
      "cell_type": "code",
      "execution_count": null,
      "id": "2b8c7ece",
      "metadata": {
        "colab": {
          "base_uri": "https://localhost:8080/"
        },
        "id": "2b8c7ece",
        "outputId": "a13c8e4e-b9a0-4191-b3cb-4e98503b0dd0"
      },
      "outputs": [
        {
          "output_type": "stream",
          "name": "stderr",
          "text": [
            "Some weights of the model checkpoint at bert-base-cased were not used when initializing BertForMaskedLM: ['cls.seq_relationship.weight', 'cls.seq_relationship.bias']\n",
            "- This IS expected if you are initializing BertForMaskedLM from the checkpoint of a model trained on another task or with another architecture (e.g. initializing a BertForSequenceClassification model from a BertForPreTraining model).\n",
            "- This IS NOT expected if you are initializing BertForMaskedLM from the checkpoint of a model that you expect to be exactly identical (initializing a BertForSequenceClassification model from a BertForSequenceClassification model).\n"
          ]
        }
      ],
      "source": [
        "#Load models\n",
        "model_pt = torch.load('model_pt11.pth', map_location=torch.device('cpu'))\n",
        "model_ft = torch.load('model_ft6.pth', map_location=torch.device('cpu'))\n",
        "tokenizer = BertTokenizer.from_pretrained('bert-base-cased')\n",
        "model = BertForMaskedLM.from_pretrained('bert-base-cased')"
      ]
    },
    {
      "cell_type": "code",
      "execution_count": null,
      "id": "ca5a6d70",
      "metadata": {
        "id": "ca5a6d70"
      },
      "outputs": [],
      "source": [
        "import json\n",
        "with open('easier.json') as d:\n",
        "    x_dict = json.load(d)"
      ]
    },
    {
      "cell_type": "code",
      "execution_count": null,
      "id": "7e585244",
      "metadata": {
        "id": "7e585244"
      },
      "outputs": [],
      "source": [
        "#Load Pageview Data\n",
        "with open('wiki_small.txt') as f:\n",
        "    lines = f.readlines()"
      ]
    },
    {
      "cell_type": "code",
      "execution_count": null,
      "id": "81ce7953",
      "metadata": {
        "id": "81ce7953"
      },
      "outputs": [],
      "source": [
        "#Attach pageviews to data dictionary\n",
        "x_dict_pvs = bpp.attach_pvs(lines, x_dict)"
      ]
    },
    {
      "cell_type": "code",
      "execution_count": null,
      "id": "10230b0f",
      "metadata": {
        "id": "10230b0f"
      },
      "outputs": [],
      "source": [
        "train, validate, test = bpp.trainvaltest(x_dict_pvs)"
      ]
    },
    {
      "cell_type": "code",
      "execution_count": null,
      "id": "6295d416",
      "metadata": {
        "id": "6295d416"
      },
      "outputs": [],
      "source": [
        "acc_vb, pred_vb, df_vb = bpp.find_accuracy(validate, model)"
      ]
    },
    {
      "cell_type": "code",
      "execution_count": null,
      "id": "fd34e4e2",
      "metadata": {
        "id": "fd34e4e2"
      },
      "outputs": [],
      "source": [
        "acc_ptb, pred_ptb, df_ptb = bpp.find_accuracy(validate, model_pt)"
      ]
    },
    {
      "cell_type": "code",
      "execution_count": null,
      "id": "c48d34d1",
      "metadata": {
        "id": "c48d34d1"
      },
      "outputs": [],
      "source": [
        "acc_ftb, pred_ftb, df_ftb = bpp.find_accuracy(validate, model_ft)"
      ]
    },
    {
      "cell_type": "code",
      "execution_count": null,
      "id": "365fae3f",
      "metadata": {
        "id": "365fae3f"
      },
      "outputs": [],
      "source": [
        "#Graph accuracy by pageview decile\n",
        "x_dict_pvs_df = pd.DataFrame(x_dict_pvs)\n",
        "x_dict_pvs_df['dec_pv'] = pd.qcut(x_dict_pvs_df[\"pagevs\"], 10,\n",
        "                               labels = False)\n",
        "validate_titles = validate[\"title\"]\n",
        "val_df = x_dict_pvs_df.loc[x_dict_pvs_df[\"title\"].isin(validate_titles)]\n",
        "val_df = val_df.set_index('title')"
      ]
    },
    {
      "cell_type": "code",
      "execution_count": null,
      "id": "41d1a3c7",
      "metadata": {
        "id": "41d1a3c7"
      },
      "outputs": [],
      "source": [
        "#BERT Vanilla\n",
        "for_graph_df_vb = df_vb\n",
        "for_graph_df_vb[\"title\"] = validate[\"title\"]\n",
        "for_graph_df_vb = for_graph_df_vb.set_index('title')\n",
        "\n",
        "graph_val_vb = pd.merge(val_df, for_graph_df_vb, left_index=True, right_index=True, how='outer')\n",
        "\n",
        "result1 = graph_val_vb.groupby('dec_pv', as_index=False)['correct'].mean()\n",
        "result1.sort_values('dec_pv', ascending=False)\n"
      ]
    },
    {
      "cell_type": "code",
      "source": [
        "sns.lineplot(data=result1, x=\"dec_pv\", y=\"correct\")"
      ],
      "metadata": {
        "id": "iWc1yhoyb6Du"
      },
      "id": "iWc1yhoyb6Du",
      "execution_count": null,
      "outputs": []
    },
    {
      "cell_type": "code",
      "execution_count": null,
      "id": "b0f23073",
      "metadata": {
        "id": "b0f23073"
      },
      "outputs": [],
      "source": [
        "#BERT Vanilla, probability of accuracy \n",
        "result_p = graph_val_vb.groupby('dec_pv', as_index=False)['prob_score'].mean()\n",
        "result_p.sort_values('dec_pv', ascending=False)\n"
      ]
    },
    {
      "cell_type": "code",
      "source": [
        "sns.lineplot(data=result_p, x=\"dec_pv\", y=\"prob_score\")"
      ],
      "metadata": {
        "id": "loMGGa7Gb951"
      },
      "id": "loMGGa7Gb951",
      "execution_count": null,
      "outputs": []
    },
    {
      "cell_type": "code",
      "execution_count": null,
      "id": "6b943333",
      "metadata": {
        "id": "6b943333"
      },
      "outputs": [],
      "source": [
        "#Pre-trained BERT\n",
        "for_graph_df_ptb = df_ptb\n",
        "for_graph_df_ptb[\"title\"] = validate[\"title\"]\n",
        "for_graph_df_ptb = for_graph_df_ptb.set_index('title')\n",
        "\n",
        "graph_val_ptb = pd.merge(val_df, for_graph_df_ptb, left_index=True, right_index=True, how='outer')\n",
        "\n",
        "result2 = graph_val_ptb.groupby('dec_pv', as_index=False)['correct'].mean()\n",
        "result2.sort_values('dec_pv', ascending=False)\n"
      ]
    },
    {
      "cell_type": "code",
      "source": [
        "sns.lineplot(data=result2, x=\"dec_pv\", y=\"correct\")"
      ],
      "metadata": {
        "id": "2frI3xwmcAcx"
      },
      "id": "2frI3xwmcAcx",
      "execution_count": null,
      "outputs": []
    },
    {
      "cell_type": "code",
      "execution_count": null,
      "id": "7a481451",
      "metadata": {
        "id": "7a481451"
      },
      "outputs": [],
      "source": [
        "#Pre-trained BERT, probability of accuracy \n",
        "result_p_ptb = graph_val_ptb.groupby('dec_pv', as_index=False)['prob_score'].mean()\n",
        "result_p_ptb.sort_values('dec_pv', ascending=False)\n"
      ]
    },
    {
      "cell_type": "code",
      "source": [
        "sns.lineplot(data=result_p_ptb, x=\"dec_pv\", y=\"prob_score\")"
      ],
      "metadata": {
        "id": "KPKzlNJwcDjx"
      },
      "id": "KPKzlNJwcDjx",
      "execution_count": null,
      "outputs": []
    },
    {
      "cell_type": "code",
      "execution_count": null,
      "id": "fbb486e2",
      "metadata": {
        "id": "fbb486e2"
      },
      "outputs": [],
      "source": [
        "#Fine-tuned BERT\n",
        "for_graph_df_ftb = df_ftb\n",
        "for_graph_df_ftb[\"title\"] = validate[\"title\"]\n",
        "for_graph_df_ftb = for_graph_df_ftb.set_index('title')\n",
        "\n",
        "graph_val_ftb = pd.merge(val_df, for_graph_df_ftb, left_index=True, right_index=True, how='outer')\n",
        "\n",
        "result3 = graph_val_ftb.groupby('dec_pv', as_index=False)['correct'].mean()\n",
        "result3.sort_values('dec_pv', ascending=False)\n"
      ]
    },
    {
      "cell_type": "code",
      "source": [
        "sns.lineplot(data=result3, x=\"dec_pv\", y=\"correct\")"
      ],
      "metadata": {
        "id": "5rrlmgBvcGzY"
      },
      "id": "5rrlmgBvcGzY",
      "execution_count": null,
      "outputs": []
    },
    {
      "cell_type": "code",
      "execution_count": null,
      "id": "e2e76721",
      "metadata": {
        "id": "e2e76721"
      },
      "outputs": [],
      "source": [
        "#Fine-tuned BERT, probability of accuracy \n",
        "result_p_ftb = graph_val_ftb.groupby('dec_pv', as_index=False)['prob_score'].mean()\n",
        "result_p_ftb.sort_values('dec_pv', ascending=False)\n"
      ]
    },
    {
      "cell_type": "code",
      "source": [
        "sns.lineplot(data=result_p_ftb, x=\"dec_pv\", y=\"prob_score\")"
      ],
      "metadata": {
        "id": "TSCiK3jlcKJI"
      },
      "id": "TSCiK3jlcKJI",
      "execution_count": null,
      "outputs": []
    },
    {
      "cell_type": "code",
      "execution_count": null,
      "id": "d2b486e9",
      "metadata": {
        "id": "d2b486e9"
      },
      "outputs": [],
      "source": [
        "#Can we say something about what BERT is picking up from the training data? "
      ]
    },
    {
      "cell_type": "code",
      "source": [
        "#Small friendly train dataset\n",
        "small_index = list(range(0,10))\n",
        "\n",
        "small = {\"id\": [], \"url\": [], \"title\": [], \"text\": [], \"pagevs\": []}\n",
        "\n",
        "for indx in range(len(small_index)):\n",
        "    myidx = small_index[indx]\n",
        "    for key in train.keys():\n",
        "        my_key = train[key]\n",
        "        small[key].append(train[key][myidx])"
      ],
      "metadata": {
        "id": "8czAn-87w_BZ"
      },
      "id": "8czAn-87w_BZ",
      "execution_count": null,
      "outputs": []
    },
    {
      "cell_type": "code",
      "execution_count": null,
      "id": "bd2be819",
      "metadata": {
        "colab": {
          "base_uri": "https://localhost:8080/",
          "height": 329
        },
        "id": "bd2be819",
        "outputId": "f744604d-db70-4a32-fad2-fb2d31240947"
      },
      "outputs": [
        {
          "output_type": "error",
          "ename": "KeyboardInterrupt",
          "evalue": "ignored",
          "traceback": [
            "\u001b[0;31m---------------------------------------------------------------------------\u001b[0m",
            "\u001b[0;31mKeyboardInterrupt\u001b[0m                         Traceback (most recent call last)",
            "\u001b[0;32m<ipython-input-8-bd33818f737a>\u001b[0m in \u001b[0;36m<module>\u001b[0;34m()\u001b[0m\n\u001b[0;32m----> 1\u001b[0;31m \u001b[0macc_vb_t\u001b[0m\u001b[0;34m,\u001b[0m \u001b[0mpred_vb_t\u001b[0m\u001b[0;34m,\u001b[0m \u001b[0mdf_vb_t\u001b[0m \u001b[0;34m=\u001b[0m \u001b[0mbpp\u001b[0m\u001b[0;34m.\u001b[0m\u001b[0mfind_accuracy\u001b[0m\u001b[0;34m(\u001b[0m\u001b[0mtrain\u001b[0m\u001b[0;34m,\u001b[0m \u001b[0mmodel\u001b[0m\u001b[0;34m)\u001b[0m\u001b[0;34m\u001b[0m\u001b[0;34m\u001b[0m\u001b[0m\n\u001b[0m",
            "\u001b[0;32m/content/BERT_Project_Package.py\u001b[0m in \u001b[0;36mfind_accuracy\u001b[0;34m(my_data, model_used)\u001b[0m\n\u001b[1;32m    152\u001b[0m     \u001b[0;32mfor\u001b[0m \u001b[0mit\u001b[0m \u001b[0;32min\u001b[0m \u001b[0mrange\u001b[0m\u001b[0;34m(\u001b[0m\u001b[0mlen\u001b[0m\u001b[0;34m(\u001b[0m\u001b[0mfull_stack\u001b[0m\u001b[0;34m)\u001b[0m\u001b[0;34m)\u001b[0m\u001b[0;34m:\u001b[0m\u001b[0;34m\u001b[0m\u001b[0;34m\u001b[0m\u001b[0m\n\u001b[1;32m    153\u001b[0m         \u001b[0mmy_text\u001b[0m \u001b[0;34m=\u001b[0m \u001b[0mfull_stack\u001b[0m\u001b[0;34m[\u001b[0m\u001b[0mit\u001b[0m\u001b[0;34m]\u001b[0m\u001b[0;34m\u001b[0m\u001b[0;34m\u001b[0m\u001b[0m\n\u001b[0;32m--> 154\u001b[0;31m         \u001b[0mmy_guess_int\u001b[0m\u001b[0;34m,\u001b[0m \u001b[0mmy_actual_int\u001b[0m\u001b[0;34m,\u001b[0m \u001b[0mmy_score\u001b[0m \u001b[0;34m=\u001b[0m \u001b[0mget_top_k_predictions\u001b[0m\u001b[0;34m(\u001b[0m\u001b[0mmy_text\u001b[0m\u001b[0;34m,\u001b[0m \u001b[0mk\u001b[0m \u001b[0;34m=\u001b[0m \u001b[0;36m1\u001b[0m\u001b[0;34m,\u001b[0m \u001b[0mtokenizer\u001b[0m\u001b[0;34m=\u001b[0m\u001b[0mtokenizer\u001b[0m\u001b[0;34m,\u001b[0m \u001b[0mmodeler\u001b[0m \u001b[0;34m=\u001b[0m \u001b[0mmodel_used\u001b[0m\u001b[0;34m)\u001b[0m\u001b[0;34m\u001b[0m\u001b[0;34m\u001b[0m\u001b[0m\n\u001b[0m\u001b[1;32m    155\u001b[0m         \u001b[0mmy_guess\u001b[0m\u001b[0;34m.\u001b[0m\u001b[0mappend\u001b[0m\u001b[0;34m(\u001b[0m\u001b[0mmy_guess_int\u001b[0m\u001b[0;34m)\u001b[0m\u001b[0;34m\u001b[0m\u001b[0;34m\u001b[0m\u001b[0m\n\u001b[1;32m    156\u001b[0m         \u001b[0mmy_actual\u001b[0m\u001b[0;34m.\u001b[0m\u001b[0mappend\u001b[0m\u001b[0;34m(\u001b[0m\u001b[0mmy_actual_int\u001b[0m\u001b[0;34m)\u001b[0m\u001b[0;34m\u001b[0m\u001b[0;34m\u001b[0m\u001b[0m\n",
            "\u001b[0;32m/content/BERT_Project_Package.py\u001b[0m in \u001b[0;36mget_top_k_predictions\u001b[0;34m(input_string, modeler, k, tokenizer)\u001b[0m\n\u001b[1;32m    117\u001b[0m \u001b[0;34m\u001b[0m\u001b[0m\n\u001b[1;32m    118\u001b[0m \u001b[0;34m\u001b[0m\u001b[0m\n\u001b[0;32m--> 119\u001b[0;31m     \u001b[0moutputs\u001b[0m \u001b[0;34m=\u001b[0m \u001b[0mmodeler\u001b[0m\u001b[0;34m(\u001b[0m\u001b[0mtokenized_inputs\u001b[0m\u001b[0;34m[\u001b[0m\u001b[0;34m\"input_ids\"\u001b[0m\u001b[0;34m]\u001b[0m\u001b[0;34m)\u001b[0m\u001b[0;34m\u001b[0m\u001b[0;34m\u001b[0m\u001b[0m\n\u001b[0m\u001b[1;32m    120\u001b[0m     \u001b[0;31m#turn output predicted logits into tf\u001b[0m\u001b[0;34m\u001b[0m\u001b[0;34m\u001b[0m\u001b[0;34m\u001b[0m\u001b[0m\n\u001b[1;32m    121\u001b[0m     \u001b[0;32mif\u001b[0m \u001b[0mstr\u001b[0m\u001b[0;34m(\u001b[0m\u001b[0mtype\u001b[0m\u001b[0;34m(\u001b[0m\u001b[0mmodeler\u001b[0m\u001b[0;34m)\u001b[0m\u001b[0;34m)\u001b[0m \u001b[0;34m==\u001b[0m \u001b[0;34m\"<class 'transformers.models.bert.modeling_bert.BertForMaskedLM'>\"\u001b[0m\u001b[0;34m:\u001b[0m\u001b[0;34m\u001b[0m\u001b[0;34m\u001b[0m\u001b[0m\n",
            "\u001b[0;32m/usr/local/lib/python3.7/dist-packages/torch/nn/modules/module.py\u001b[0m in \u001b[0;36m_call_impl\u001b[0;34m(self, *input, **kwargs)\u001b[0m\n\u001b[1;32m   1108\u001b[0m         if not (self._backward_hooks or self._forward_hooks or self._forward_pre_hooks or _global_backward_hooks\n\u001b[1;32m   1109\u001b[0m                 or _global_forward_hooks or _global_forward_pre_hooks):\n\u001b[0;32m-> 1110\u001b[0;31m             \u001b[0;32mreturn\u001b[0m \u001b[0mforward_call\u001b[0m\u001b[0;34m(\u001b[0m\u001b[0;34m*\u001b[0m\u001b[0minput\u001b[0m\u001b[0;34m,\u001b[0m \u001b[0;34m**\u001b[0m\u001b[0mkwargs\u001b[0m\u001b[0;34m)\u001b[0m\u001b[0;34m\u001b[0m\u001b[0;34m\u001b[0m\u001b[0m\n\u001b[0m\u001b[1;32m   1111\u001b[0m         \u001b[0;31m# Do not call functions when jit is used\u001b[0m\u001b[0;34m\u001b[0m\u001b[0;34m\u001b[0m\u001b[0;34m\u001b[0m\u001b[0m\n\u001b[1;32m   1112\u001b[0m         \u001b[0mfull_backward_hooks\u001b[0m\u001b[0;34m,\u001b[0m \u001b[0mnon_full_backward_hooks\u001b[0m \u001b[0;34m=\u001b[0m \u001b[0;34m[\u001b[0m\u001b[0;34m]\u001b[0m\u001b[0;34m,\u001b[0m \u001b[0;34m[\u001b[0m\u001b[0;34m]\u001b[0m\u001b[0;34m\u001b[0m\u001b[0;34m\u001b[0m\u001b[0m\n",
            "\u001b[0;32m/usr/local/lib/python3.7/dist-packages/transformers/models/bert/modeling_bert.py\u001b[0m in \u001b[0;36mforward\u001b[0;34m(self, input_ids, attention_mask, token_type_ids, position_ids, head_mask, inputs_embeds, encoder_hidden_states, encoder_attention_mask, labels, output_attentions, output_hidden_states, return_dict)\u001b[0m\n\u001b[1;32m   1359\u001b[0m             \u001b[0moutput_attentions\u001b[0m\u001b[0;34m=\u001b[0m\u001b[0moutput_attentions\u001b[0m\u001b[0;34m,\u001b[0m\u001b[0;34m\u001b[0m\u001b[0;34m\u001b[0m\u001b[0m\n\u001b[1;32m   1360\u001b[0m             \u001b[0moutput_hidden_states\u001b[0m\u001b[0;34m=\u001b[0m\u001b[0moutput_hidden_states\u001b[0m\u001b[0;34m,\u001b[0m\u001b[0;34m\u001b[0m\u001b[0;34m\u001b[0m\u001b[0m\n\u001b[0;32m-> 1361\u001b[0;31m             \u001b[0mreturn_dict\u001b[0m\u001b[0;34m=\u001b[0m\u001b[0mreturn_dict\u001b[0m\u001b[0;34m,\u001b[0m\u001b[0;34m\u001b[0m\u001b[0;34m\u001b[0m\u001b[0m\n\u001b[0m\u001b[1;32m   1362\u001b[0m         )\n\u001b[1;32m   1363\u001b[0m \u001b[0;34m\u001b[0m\u001b[0m\n",
            "\u001b[0;32m/usr/local/lib/python3.7/dist-packages/torch/nn/modules/module.py\u001b[0m in \u001b[0;36m_call_impl\u001b[0;34m(self, *input, **kwargs)\u001b[0m\n\u001b[1;32m   1108\u001b[0m         if not (self._backward_hooks or self._forward_hooks or self._forward_pre_hooks or _global_backward_hooks\n\u001b[1;32m   1109\u001b[0m                 or _global_forward_hooks or _global_forward_pre_hooks):\n\u001b[0;32m-> 1110\u001b[0;31m             \u001b[0;32mreturn\u001b[0m \u001b[0mforward_call\u001b[0m\u001b[0;34m(\u001b[0m\u001b[0;34m*\u001b[0m\u001b[0minput\u001b[0m\u001b[0;34m,\u001b[0m \u001b[0;34m**\u001b[0m\u001b[0mkwargs\u001b[0m\u001b[0;34m)\u001b[0m\u001b[0;34m\u001b[0m\u001b[0;34m\u001b[0m\u001b[0m\n\u001b[0m\u001b[1;32m   1111\u001b[0m         \u001b[0;31m# Do not call functions when jit is used\u001b[0m\u001b[0;34m\u001b[0m\u001b[0;34m\u001b[0m\u001b[0;34m\u001b[0m\u001b[0m\n\u001b[1;32m   1112\u001b[0m         \u001b[0mfull_backward_hooks\u001b[0m\u001b[0;34m,\u001b[0m \u001b[0mnon_full_backward_hooks\u001b[0m \u001b[0;34m=\u001b[0m \u001b[0;34m[\u001b[0m\u001b[0;34m]\u001b[0m\u001b[0;34m,\u001b[0m \u001b[0;34m[\u001b[0m\u001b[0;34m]\u001b[0m\u001b[0;34m\u001b[0m\u001b[0;34m\u001b[0m\u001b[0m\n",
            "\u001b[0;32m/usr/local/lib/python3.7/dist-packages/transformers/models/bert/modeling_bert.py\u001b[0m in \u001b[0;36mforward\u001b[0;34m(self, input_ids, attention_mask, token_type_ids, position_ids, head_mask, inputs_embeds, encoder_hidden_states, encoder_attention_mask, past_key_values, use_cache, output_attentions, output_hidden_states, return_dict)\u001b[0m\n\u001b[1;32m   1025\u001b[0m             \u001b[0moutput_attentions\u001b[0m\u001b[0;34m=\u001b[0m\u001b[0moutput_attentions\u001b[0m\u001b[0;34m,\u001b[0m\u001b[0;34m\u001b[0m\u001b[0;34m\u001b[0m\u001b[0m\n\u001b[1;32m   1026\u001b[0m             \u001b[0moutput_hidden_states\u001b[0m\u001b[0;34m=\u001b[0m\u001b[0moutput_hidden_states\u001b[0m\u001b[0;34m,\u001b[0m\u001b[0;34m\u001b[0m\u001b[0;34m\u001b[0m\u001b[0m\n\u001b[0;32m-> 1027\u001b[0;31m             \u001b[0mreturn_dict\u001b[0m\u001b[0;34m=\u001b[0m\u001b[0mreturn_dict\u001b[0m\u001b[0;34m,\u001b[0m\u001b[0;34m\u001b[0m\u001b[0;34m\u001b[0m\u001b[0m\n\u001b[0m\u001b[1;32m   1028\u001b[0m         )\n\u001b[1;32m   1029\u001b[0m         \u001b[0msequence_output\u001b[0m \u001b[0;34m=\u001b[0m \u001b[0mencoder_outputs\u001b[0m\u001b[0;34m[\u001b[0m\u001b[0;36m0\u001b[0m\u001b[0;34m]\u001b[0m\u001b[0;34m\u001b[0m\u001b[0;34m\u001b[0m\u001b[0m\n",
            "\u001b[0;32m/usr/local/lib/python3.7/dist-packages/torch/nn/modules/module.py\u001b[0m in \u001b[0;36m_call_impl\u001b[0;34m(self, *input, **kwargs)\u001b[0m\n\u001b[1;32m   1108\u001b[0m         if not (self._backward_hooks or self._forward_hooks or self._forward_pre_hooks or _global_backward_hooks\n\u001b[1;32m   1109\u001b[0m                 or _global_forward_hooks or _global_forward_pre_hooks):\n\u001b[0;32m-> 1110\u001b[0;31m             \u001b[0;32mreturn\u001b[0m \u001b[0mforward_call\u001b[0m\u001b[0;34m(\u001b[0m\u001b[0;34m*\u001b[0m\u001b[0minput\u001b[0m\u001b[0;34m,\u001b[0m \u001b[0;34m**\u001b[0m\u001b[0mkwargs\u001b[0m\u001b[0;34m)\u001b[0m\u001b[0;34m\u001b[0m\u001b[0;34m\u001b[0m\u001b[0m\n\u001b[0m\u001b[1;32m   1111\u001b[0m         \u001b[0;31m# Do not call functions when jit is used\u001b[0m\u001b[0;34m\u001b[0m\u001b[0;34m\u001b[0m\u001b[0;34m\u001b[0m\u001b[0m\n\u001b[1;32m   1112\u001b[0m         \u001b[0mfull_backward_hooks\u001b[0m\u001b[0;34m,\u001b[0m \u001b[0mnon_full_backward_hooks\u001b[0m \u001b[0;34m=\u001b[0m \u001b[0;34m[\u001b[0m\u001b[0;34m]\u001b[0m\u001b[0;34m,\u001b[0m \u001b[0;34m[\u001b[0m\u001b[0;34m]\u001b[0m\u001b[0;34m\u001b[0m\u001b[0;34m\u001b[0m\u001b[0m\n",
            "\u001b[0;32m/usr/local/lib/python3.7/dist-packages/transformers/models/bert/modeling_bert.py\u001b[0m in \u001b[0;36mforward\u001b[0;34m(self, hidden_states, attention_mask, head_mask, encoder_hidden_states, encoder_attention_mask, past_key_values, use_cache, output_attentions, output_hidden_states, return_dict)\u001b[0m\n\u001b[1;32m    611\u001b[0m                     \u001b[0mencoder_attention_mask\u001b[0m\u001b[0;34m,\u001b[0m\u001b[0;34m\u001b[0m\u001b[0;34m\u001b[0m\u001b[0m\n\u001b[1;32m    612\u001b[0m                     \u001b[0mpast_key_value\u001b[0m\u001b[0;34m,\u001b[0m\u001b[0;34m\u001b[0m\u001b[0;34m\u001b[0m\u001b[0m\n\u001b[0;32m--> 613\u001b[0;31m                     \u001b[0moutput_attentions\u001b[0m\u001b[0;34m,\u001b[0m\u001b[0;34m\u001b[0m\u001b[0;34m\u001b[0m\u001b[0m\n\u001b[0m\u001b[1;32m    614\u001b[0m                 )\n\u001b[1;32m    615\u001b[0m \u001b[0;34m\u001b[0m\u001b[0m\n",
            "\u001b[0;32m/usr/local/lib/python3.7/dist-packages/torch/nn/modules/module.py\u001b[0m in \u001b[0;36m_call_impl\u001b[0;34m(self, *input, **kwargs)\u001b[0m\n\u001b[1;32m   1108\u001b[0m         if not (self._backward_hooks or self._forward_hooks or self._forward_pre_hooks or _global_backward_hooks\n\u001b[1;32m   1109\u001b[0m                 or _global_forward_hooks or _global_forward_pre_hooks):\n\u001b[0;32m-> 1110\u001b[0;31m             \u001b[0;32mreturn\u001b[0m \u001b[0mforward_call\u001b[0m\u001b[0;34m(\u001b[0m\u001b[0;34m*\u001b[0m\u001b[0minput\u001b[0m\u001b[0;34m,\u001b[0m \u001b[0;34m**\u001b[0m\u001b[0mkwargs\u001b[0m\u001b[0;34m)\u001b[0m\u001b[0;34m\u001b[0m\u001b[0;34m\u001b[0m\u001b[0m\n\u001b[0m\u001b[1;32m   1111\u001b[0m         \u001b[0;31m# Do not call functions when jit is used\u001b[0m\u001b[0;34m\u001b[0m\u001b[0;34m\u001b[0m\u001b[0;34m\u001b[0m\u001b[0m\n\u001b[1;32m   1112\u001b[0m         \u001b[0mfull_backward_hooks\u001b[0m\u001b[0;34m,\u001b[0m \u001b[0mnon_full_backward_hooks\u001b[0m \u001b[0;34m=\u001b[0m \u001b[0;34m[\u001b[0m\u001b[0;34m]\u001b[0m\u001b[0;34m,\u001b[0m \u001b[0;34m[\u001b[0m\u001b[0;34m]\u001b[0m\u001b[0;34m\u001b[0m\u001b[0;34m\u001b[0m\u001b[0m\n",
            "\u001b[0;32m/usr/local/lib/python3.7/dist-packages/transformers/models/bert/modeling_bert.py\u001b[0m in \u001b[0;36mforward\u001b[0;34m(self, hidden_states, attention_mask, head_mask, encoder_hidden_states, encoder_attention_mask, past_key_value, output_attentions)\u001b[0m\n\u001b[1;32m    496\u001b[0m             \u001b[0mhead_mask\u001b[0m\u001b[0;34m,\u001b[0m\u001b[0;34m\u001b[0m\u001b[0;34m\u001b[0m\u001b[0m\n\u001b[1;32m    497\u001b[0m             \u001b[0moutput_attentions\u001b[0m\u001b[0;34m=\u001b[0m\u001b[0moutput_attentions\u001b[0m\u001b[0;34m,\u001b[0m\u001b[0;34m\u001b[0m\u001b[0;34m\u001b[0m\u001b[0m\n\u001b[0;32m--> 498\u001b[0;31m             \u001b[0mpast_key_value\u001b[0m\u001b[0;34m=\u001b[0m\u001b[0mself_attn_past_key_value\u001b[0m\u001b[0;34m,\u001b[0m\u001b[0;34m\u001b[0m\u001b[0;34m\u001b[0m\u001b[0m\n\u001b[0m\u001b[1;32m    499\u001b[0m         )\n\u001b[1;32m    500\u001b[0m         \u001b[0mattention_output\u001b[0m \u001b[0;34m=\u001b[0m \u001b[0mself_attention_outputs\u001b[0m\u001b[0;34m[\u001b[0m\u001b[0;36m0\u001b[0m\u001b[0;34m]\u001b[0m\u001b[0;34m\u001b[0m\u001b[0;34m\u001b[0m\u001b[0m\n",
            "\u001b[0;32m/usr/local/lib/python3.7/dist-packages/torch/nn/modules/module.py\u001b[0m in \u001b[0;36m_call_impl\u001b[0;34m(self, *input, **kwargs)\u001b[0m\n\u001b[1;32m   1108\u001b[0m         if not (self._backward_hooks or self._forward_hooks or self._forward_pre_hooks or _global_backward_hooks\n\u001b[1;32m   1109\u001b[0m                 or _global_forward_hooks or _global_forward_pre_hooks):\n\u001b[0;32m-> 1110\u001b[0;31m             \u001b[0;32mreturn\u001b[0m \u001b[0mforward_call\u001b[0m\u001b[0;34m(\u001b[0m\u001b[0;34m*\u001b[0m\u001b[0minput\u001b[0m\u001b[0;34m,\u001b[0m \u001b[0;34m**\u001b[0m\u001b[0mkwargs\u001b[0m\u001b[0;34m)\u001b[0m\u001b[0;34m\u001b[0m\u001b[0;34m\u001b[0m\u001b[0m\n\u001b[0m\u001b[1;32m   1111\u001b[0m         \u001b[0;31m# Do not call functions when jit is used\u001b[0m\u001b[0;34m\u001b[0m\u001b[0;34m\u001b[0m\u001b[0;34m\u001b[0m\u001b[0m\n\u001b[1;32m   1112\u001b[0m         \u001b[0mfull_backward_hooks\u001b[0m\u001b[0;34m,\u001b[0m \u001b[0mnon_full_backward_hooks\u001b[0m \u001b[0;34m=\u001b[0m \u001b[0;34m[\u001b[0m\u001b[0;34m]\u001b[0m\u001b[0;34m,\u001b[0m \u001b[0;34m[\u001b[0m\u001b[0;34m]\u001b[0m\u001b[0;34m\u001b[0m\u001b[0;34m\u001b[0m\u001b[0m\n",
            "\u001b[0;32m/usr/local/lib/python3.7/dist-packages/transformers/models/bert/modeling_bert.py\u001b[0m in \u001b[0;36mforward\u001b[0;34m(self, hidden_states, attention_mask, head_mask, encoder_hidden_states, encoder_attention_mask, past_key_value, output_attentions)\u001b[0m\n\u001b[1;32m    428\u001b[0m             \u001b[0mencoder_attention_mask\u001b[0m\u001b[0;34m,\u001b[0m\u001b[0;34m\u001b[0m\u001b[0;34m\u001b[0m\u001b[0m\n\u001b[1;32m    429\u001b[0m             \u001b[0mpast_key_value\u001b[0m\u001b[0;34m,\u001b[0m\u001b[0;34m\u001b[0m\u001b[0;34m\u001b[0m\u001b[0m\n\u001b[0;32m--> 430\u001b[0;31m             \u001b[0moutput_attentions\u001b[0m\u001b[0;34m,\u001b[0m\u001b[0;34m\u001b[0m\u001b[0;34m\u001b[0m\u001b[0m\n\u001b[0m\u001b[1;32m    431\u001b[0m         )\n\u001b[1;32m    432\u001b[0m         \u001b[0mattention_output\u001b[0m \u001b[0;34m=\u001b[0m \u001b[0mself\u001b[0m\u001b[0;34m.\u001b[0m\u001b[0moutput\u001b[0m\u001b[0;34m(\u001b[0m\u001b[0mself_outputs\u001b[0m\u001b[0;34m[\u001b[0m\u001b[0;36m0\u001b[0m\u001b[0;34m]\u001b[0m\u001b[0;34m,\u001b[0m \u001b[0mhidden_states\u001b[0m\u001b[0;34m)\u001b[0m\u001b[0;34m\u001b[0m\u001b[0;34m\u001b[0m\u001b[0m\n",
            "\u001b[0;32m/usr/local/lib/python3.7/dist-packages/torch/nn/modules/module.py\u001b[0m in \u001b[0;36m_call_impl\u001b[0;34m(self, *input, **kwargs)\u001b[0m\n\u001b[1;32m   1108\u001b[0m         if not (self._backward_hooks or self._forward_hooks or self._forward_pre_hooks or _global_backward_hooks\n\u001b[1;32m   1109\u001b[0m                 or _global_forward_hooks or _global_forward_pre_hooks):\n\u001b[0;32m-> 1110\u001b[0;31m             \u001b[0;32mreturn\u001b[0m \u001b[0mforward_call\u001b[0m\u001b[0;34m(\u001b[0m\u001b[0;34m*\u001b[0m\u001b[0minput\u001b[0m\u001b[0;34m,\u001b[0m \u001b[0;34m**\u001b[0m\u001b[0mkwargs\u001b[0m\u001b[0;34m)\u001b[0m\u001b[0;34m\u001b[0m\u001b[0;34m\u001b[0m\u001b[0m\n\u001b[0m\u001b[1;32m   1111\u001b[0m         \u001b[0;31m# Do not call functions when jit is used\u001b[0m\u001b[0;34m\u001b[0m\u001b[0;34m\u001b[0m\u001b[0;34m\u001b[0m\u001b[0m\n\u001b[1;32m   1112\u001b[0m         \u001b[0mfull_backward_hooks\u001b[0m\u001b[0;34m,\u001b[0m \u001b[0mnon_full_backward_hooks\u001b[0m \u001b[0;34m=\u001b[0m \u001b[0;34m[\u001b[0m\u001b[0;34m]\u001b[0m\u001b[0;34m,\u001b[0m \u001b[0;34m[\u001b[0m\u001b[0;34m]\u001b[0m\u001b[0;34m\u001b[0m\u001b[0;34m\u001b[0m\u001b[0m\n",
            "\u001b[0;32m/usr/local/lib/python3.7/dist-packages/transformers/models/bert/modeling_bert.py\u001b[0m in \u001b[0;36mforward\u001b[0;34m(self, hidden_states, attention_mask, head_mask, encoder_hidden_states, encoder_attention_mask, past_key_value, output_attentions)\u001b[0m\n\u001b[1;32m    346\u001b[0m         \u001b[0;32mif\u001b[0m \u001b[0mattention_mask\u001b[0m \u001b[0;32mis\u001b[0m \u001b[0;32mnot\u001b[0m \u001b[0;32mNone\u001b[0m\u001b[0;34m:\u001b[0m\u001b[0;34m\u001b[0m\u001b[0;34m\u001b[0m\u001b[0m\n\u001b[1;32m    347\u001b[0m             \u001b[0;31m# Apply the attention mask is (precomputed for all layers in BertModel forward() function)\u001b[0m\u001b[0;34m\u001b[0m\u001b[0;34m\u001b[0m\u001b[0;34m\u001b[0m\u001b[0m\n\u001b[0;32m--> 348\u001b[0;31m             \u001b[0mattention_scores\u001b[0m \u001b[0;34m=\u001b[0m \u001b[0mattention_scores\u001b[0m \u001b[0;34m+\u001b[0m \u001b[0mattention_mask\u001b[0m\u001b[0;34m\u001b[0m\u001b[0;34m\u001b[0m\u001b[0m\n\u001b[0m\u001b[1;32m    349\u001b[0m \u001b[0;34m\u001b[0m\u001b[0m\n\u001b[1;32m    350\u001b[0m         \u001b[0;31m# Normalize the attention scores to probabilities.\u001b[0m\u001b[0;34m\u001b[0m\u001b[0;34m\u001b[0m\u001b[0;34m\u001b[0m\u001b[0m\n",
            "\u001b[0;31mKeyboardInterrupt\u001b[0m: "
          ]
        }
      ],
      "source": [
        "acc_vb_t, pred_vb_t, df_vb_t = bpp.find_accuracy(train, model)"
      ]
    },
    {
      "cell_type": "code",
      "execution_count": null,
      "id": "5162dc60",
      "metadata": {
        "id": "5162dc60"
      },
      "outputs": [],
      "source": [
        "acc_vb_t"
      ]
    },
    {
      "cell_type": "code",
      "execution_count": null,
      "id": "70384a73",
      "metadata": {
        "id": "70384a73"
      },
      "outputs": [],
      "source": [
        "pred_vb_t"
      ]
    },
    {
      "cell_type": "code",
      "execution_count": null,
      "id": "4bcc57c1",
      "metadata": {
        "id": "4bcc57c1"
      },
      "outputs": [],
      "source": [
        "acc_ptb_t, pred_ptb_t, df_ptb_t = bpp.find_accuracy(train, model_pt)"
      ]
    },
    {
      "cell_type": "code",
      "execution_count": null,
      "id": "98f62eb9",
      "metadata": {
        "id": "98f62eb9"
      },
      "outputs": [],
      "source": [
        "acc_ptb_t"
      ]
    },
    {
      "cell_type": "code",
      "execution_count": null,
      "id": "e65590bb",
      "metadata": {
        "id": "e65590bb"
      },
      "outputs": [],
      "source": [
        "pred_ptb_t"
      ]
    },
    {
      "cell_type": "code",
      "execution_count": null,
      "id": "9d199282",
      "metadata": {
        "id": "9d199282"
      },
      "outputs": [],
      "source": [
        "acc_ftb_t, pred_ftb_t, df_ftb_t = bpp.find_accuracy(validate, model_ft)"
      ]
    },
    {
      "cell_type": "code",
      "execution_count": null,
      "id": "78bd9194",
      "metadata": {
        "id": "78bd9194"
      },
      "outputs": [],
      "source": [
        "acc_ftb_t"
      ]
    },
    {
      "cell_type": "code",
      "execution_count": null,
      "id": "7b547f80",
      "metadata": {
        "id": "7b547f80"
      },
      "outputs": [],
      "source": [
        "pred_ftb_t"
      ]
    },
    {
      "cell_type": "code",
      "execution_count": null,
      "id": "56455f19",
      "metadata": {
        "id": "56455f19"
      },
      "outputs": [],
      "source": [
        "#Graph accuracy by pageview decile, train\n",
        "x_dict_pvs_df = pd.DataFrame(x_dict_pvs)\n",
        "x_dict_pvs_df['dec_pv'] = pd.qcut(x_dict_pvs_df[\"pagevs\"], 10,\n",
        "                               labels = False)\n",
        "train_titles = train[\"title\"]\n",
        "trn_df = x_dict_pvs_df.loc[x_dict_pvs_df[\"title\"].isin(train_titles)]\n",
        "trn_df = trn_df.set_index('title')"
      ]
    },
    {
      "cell_type": "code",
      "execution_count": null,
      "id": "99e3dcd4",
      "metadata": {
        "id": "99e3dcd4"
      },
      "outputs": [],
      "source": [
        "#BERT Vanilla\n",
        "for_graph_df_vb_t = df_vb_t\n",
        "for_graph_df_vb_t[\"title\"] = train[\"title\"]\n",
        "for_graph_df_vb_t = for_graph_df_vb_t.set_index('title')\n",
        "\n",
        "graph_val_vb_t = pd.merge(trn_df, for_graph_df_vb_t, left_index=True, right_index=True, how='outer')\n",
        "\n",
        "result1_t = graph_val_vb_t.groupby('dec_pv', as_index=False)['correct'].mean()\n",
        "result1_t.sort_values('dec_pv', ascending=False)\n"
      ]
    },
    {
      "cell_type": "code",
      "source": [
        "sns.lineplot(data=result1_t, x=\"dec_pv\", y=\"correct\")"
      ],
      "metadata": {
        "id": "GzUQkfjvcO9d"
      },
      "id": "GzUQkfjvcO9d",
      "execution_count": null,
      "outputs": []
    },
    {
      "cell_type": "code",
      "execution_count": null,
      "id": "52adec3b",
      "metadata": {
        "id": "52adec3b"
      },
      "outputs": [],
      "source": [
        "##Pre-trained BERT\n",
        "for_graph_df_ptb_t = df_ptb_t\n",
        "for_graph_df_ptb_t[\"title\"] = train[\"title\"]\n",
        "for_graph_df_ptb_t = for_graph_df_ptb_t.set_index('title')\n",
        "\n",
        "graph_val_ptb_t = pd.merge(trn_df, for_graph_df_ptb_t, left_index=True, right_index=True, how='outer')\n",
        "\n",
        "result1_ptb_t = graph_val_ptb_t.groupby('dec_pv', as_index=False)['correct'].mean()\n",
        "result1_ptb_t.sort_values('dec_pv', ascending=False)\n",
        "\n"
      ]
    },
    {
      "cell_type": "code",
      "source": [
        "sns.lineplot(data=result1_ptb_t, x=\"dec_pv\", y=\"correct\")"
      ],
      "metadata": {
        "id": "VouyT0i7cSXl"
      },
      "id": "VouyT0i7cSXl",
      "execution_count": null,
      "outputs": []
    },
    {
      "cell_type": "code",
      "execution_count": null,
      "id": "b3f1bab0",
      "metadata": {
        "id": "b3f1bab0"
      },
      "outputs": [],
      "source": [
        "##Fine_tuned BERT\n",
        "for_graph_df_ft_t = df_ftb_t\n",
        "for_graph_df_ft_t[\"title\"] = train[\"title\"]\n",
        "for_graph_df_ft_t = for_graph_df_ft_t.set_index('title')\n",
        "\n",
        "graph_val_ft_t = pd.merge(trn_df, for_graph_df_ft_t, left_index=True, right_index=True, how='outer')\n",
        "\n",
        "result1_ft_t = graph_val_ft_t.groupby('dec_pv', as_index=False)['correct'].mean()\n",
        "result1_ft_t.sort_values('dec_pv', ascending=False)\n",
        "\n"
      ]
    },
    {
      "cell_type": "code",
      "source": [
        "sns.lineplot(data=result1_ft_t, x=\"dec_pv\", y=\"correct\")"
      ],
      "metadata": {
        "id": "jHhh6yQqcZIN"
      },
      "id": "jHhh6yQqcZIN",
      "execution_count": null,
      "outputs": []
    }
  ],
  "metadata": {
    "kernelspec": {
      "display_name": "Python 3 (ipykernel)",
      "language": "python",
      "name": "python3"
    },
    "language_info": {
      "codemirror_mode": {
        "name": "ipython",
        "version": 3
      },
      "file_extension": ".py",
      "mimetype": "text/x-python",
      "name": "python",
      "nbconvert_exporter": "python",
      "pygments_lexer": "ipython3",
      "version": "3.9.7"
    },
    "colab": {
      "provenance": [],
      "machine_shape": "hm",
      "background_execution": "on",
      "include_colab_link": true
    }
  },
  "nbformat": 4,
  "nbformat_minor": 5
}